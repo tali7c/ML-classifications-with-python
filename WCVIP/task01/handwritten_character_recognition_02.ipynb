{
  "nbformat": 4,
  "nbformat_minor": 0,
  "metadata": {
    "colab": {
      "name": "handwritten character recognition 02.ipynb",
      "provenance": [],
      "collapsed_sections": []
    },
    "kernelspec": {
      "name": "python3",
      "display_name": "Python 3"
    }
  },
  "cells": [
    {
      "cell_type": "markdown",
      "metadata": {
        "id": "wIDtJf736QF8"
      },
      "source": [
        "Some time we have to install a package, if it is not present in goole colaboratory\n",
        "!pip install packageName"
      ]
    },
    {
      "cell_type": "code",
      "metadata": {
        "id": "UzKQLp_bVqm6",
        "colab": {
          "base_uri": "https://localhost:8080/"
        },
        "outputId": "b062bfcd-a08f-4602-c3d6-7a3d4dfa4bbc"
      },
      "source": [
        "# -*- coding: utf-8 -*-\n",
        "\"\"\"\n",
        "@author:T ALI\n",
        "\"\"\"\n",
        "!pip install wget"
      ],
      "execution_count": 4,
      "outputs": [
        {
          "output_type": "stream",
          "text": [
            "Collecting wget\n",
            "  Downloading https://files.pythonhosted.org/packages/47/6a/62e288da7bcda82b935ff0c6cfe542970f04e29c756b0e147251b2fb251f/wget-3.2.zip\n",
            "Building wheels for collected packages: wget\n",
            "  Building wheel for wget (setup.py) ... \u001b[?25l\u001b[?25hdone\n",
            "  Created wheel for wget: filename=wget-3.2-cp36-none-any.whl size=9681 sha256=03083f6f78701728a779fcd3672a21327d175354f49e3eb9bb1ab9d1a28d9516\n",
            "  Stored in directory: /root/.cache/pip/wheels/40/15/30/7d8f7cea2902b4db79e3fea550d7d7b85ecb27ef992b618f3f\n",
            "Successfully built wget\n",
            "Installing collected packages: wget\n",
            "Successfully installed wget-3.2\n"
          ],
          "name": "stdout"
        }
      ]
    },
    {
      "cell_type": "markdown",
      "metadata": {
        "id": "OItDyQqm6sEA"
      },
      "source": [
        "import different required packages"
      ]
    },
    {
      "cell_type": "code",
      "metadata": {
        "id": "Q9wJLT9y5lww"
      },
      "source": [
        "\n",
        "import os\n",
        "import numpy as np\n",
        "import cv2 \n",
        "import wget \n"
      ],
      "execution_count": 5,
      "outputs": []
    },
    {
      "cell_type": "markdown",
      "metadata": {
        "id": "uKUhtQBJ60wN"
      },
      "source": [
        "create a directory and change the current directory"
      ]
    },
    {
      "cell_type": "code",
      "metadata": {
        "id": "wr4SxHFt0tBT"
      },
      "source": [
        "rootDir='./Data'\n",
        "os.makedirs(rootDir, exist_ok=True)    \n",
        "        \n",
        "os.chdir(rootDir)\n"
      ],
      "execution_count": 6,
      "outputs": []
    },
    {
      "cell_type": "markdown",
      "metadata": {
        "id": "Zi392tRo7CPQ"
      },
      "source": [
        "download different files in current directory. Information regarding these files can be obtained from http://yann.lecun.com/exdb/mnist/"
      ]
    },
    {
      "cell_type": "code",
      "metadata": {
        "id": "ejj_Bxcc7L7q",
        "colab": {
          "base_uri": "https://localhost:8080/",
          "height": 35
        },
        "outputId": "2c5ce21e-5538-4ac3-89cf-95e1c417bdb5"
      },
      "source": [
        "url = 'http://yann.lecun.com/exdb/mnist/train-images-idx3-ubyte.gz'\n",
        "wget.download(url)\n",
        "\n",
        "url = 'http://yann.lecun.com/exdb/mnist/train-labels-idx1-ubyte.gz'\n",
        "wget.download(url)\n",
        "\n",
        "url = 'http://yann.lecun.com/exdb/mnist/t10k-images-idx3-ubyte.gz'\n",
        "wget.download(url)\n",
        "\n",
        "url = 'http://yann.lecun.com/exdb/mnist/t10k-labels-idx1-ubyte.gz'\n",
        "wget.download(url)"
      ],
      "execution_count": 7,
      "outputs": [
        {
          "output_type": "execute_result",
          "data": {
            "application/vnd.google.colaboratory.intrinsic+json": {
              "type": "string"
            },
            "text/plain": [
              "'t10k-labels-idx1-ubyte.gz'"
            ]
          },
          "metadata": {
            "tags": []
          },
          "execution_count": 7
        }
      ]
    },
    {
      "cell_type": "markdown",
      "metadata": {
        "id": "_FLM0pNL7RXa"
      },
      "source": [
        "extract the training data and store it in Train folder"
      ]
    },
    {
      "cell_type": "code",
      "metadata": {
        "id": "H9u9c99m0zBh"
      },
      "source": [
        "\n",
        "image_size = 28\n",
        "import gzip\n",
        "\n",
        "fx = gzip.open('train-images-idx3-ubyte.gz','r')\n",
        "fx.read(16)\n",
        "fy = gzip.open('train-labels-idx1-ubyte.gz','r')\n",
        "fy.read(8)\n",
        "count=0\n",
        "while 1:\n",
        "    labBuff=fy.read(1)\n",
        "    if not labBuff:\n",
        "        break\n",
        "    label = np.frombuffer(labBuff, dtype=np.uint8)[0]\n",
        "    buf = fx.read(image_size * image_size )\n",
        "    data = np.frombuffer(buf, dtype=np.uint8)\n",
        "    image = data.reshape(image_size, image_size)\n",
        "    parentDir='Train'+os.sep+str(label)\n",
        "    os.makedirs(parentDir, exist_ok=True)    \n",
        "    cv2.imwrite(parentDir+os.sep+str(count)+'.png',image)  \n",
        "    count += 1\n"
      ],
      "execution_count": 8,
      "outputs": []
    },
    {
      "cell_type": "markdown",
      "metadata": {
        "id": "Ou-b5H4z7aBL"
      },
      "source": [
        "extract the testing data and store it in Test folder"
      ]
    },
    {
      "cell_type": "code",
      "metadata": {
        "id": "ERNR-WIu05mN"
      },
      "source": [
        "fx = gzip.open('t10k-images-idx3-ubyte.gz','r')\n",
        "fx.read(16)\n",
        "fy = gzip.open('t10k-labels-idx1-ubyte.gz','r')\n",
        "fy.read(8)\n",
        "count=0\n",
        "while 1:\n",
        "    labBuff=fy.read(1)\n",
        "    if not labBuff:\n",
        "        break\n",
        "    label = np.frombuffer(labBuff, dtype=np.uint8)[0]\n",
        "    buf = fx.read(image_size * image_size )\n",
        "    data = np.frombuffer(buf, dtype=np.uint8)\n",
        "    image = data.reshape(image_size, image_size)\n",
        "    parentDir='Test'+os.sep+str(label)\n",
        "    os.makedirs(parentDir, exist_ok=True)    \n",
        "    cv2.imwrite(parentDir+os.sep+str(count)+'.png',image)  \n",
        "    count += 1"
      ],
      "execution_count": 9,
      "outputs": []
    },
    {
      "cell_type": "markdown",
      "metadata": {
        "id": "d41jRMAWNHe0"
      },
      "source": [
        "Let create Training and Testing Dataset"
      ]
    },
    {
      "cell_type": "code",
      "metadata": {
        "id": "-pF2MQpQNPlN",
        "colab": {
          "base_uri": "https://localhost:8080/"
        },
        "outputId": "33e44285-4db0-4c37-aa79-1167ba9272e6"
      },
      "source": [
        "from random import shuffle\n",
        "import tensorflow as tf \n",
        "import matplotlib.pyplot as plt\n",
        "import cv2 \n",
        "\n",
        "print(os.getcwd())\n",
        "rootDir='/'\n",
        "os.chdir(rootDir)\n",
        "\n",
        "\n"
      ],
      "execution_count": 10,
      "outputs": [
        {
          "output_type": "stream",
          "text": [
            "/content/Data\n"
          ],
          "name": "stdout"
        }
      ]
    },
    {
      "cell_type": "code",
      "metadata": {
        "id": "i_v8i6npDpBa",
        "colab": {
          "base_uri": "https://localhost:8080/"
        },
        "outputId": "ad87ce54-ee33-4615-8eac-6949a5a72445"
      },
      "source": [
        "\n",
        "rootDir='./content/Data/Train'\n",
        "trainList=[]\n",
        "for path, subdirs, files in os.walk(rootDir):\n",
        "  for name in files:\n",
        "    if not name.endswith('.png'):\n",
        "        continue  \n",
        "    \n",
        "    imPath=os.path.join(path, name); \n",
        "    # print(imPath)\n",
        "    parts=imPath.split(os.sep);   \n",
        "    trainList.append([imPath, int(parts[-2])])\n",
        "        \n",
        "        \n",
        "rootDir='./content/Data/Test'\n",
        "testList=[]\n",
        "for path, subdirs, files in os.walk(rootDir):\n",
        "    for name in files:\n",
        "        if not name.endswith('.png'):\n",
        "            continue  \n",
        "        \n",
        "        imPath=os.path.join(path, name); \n",
        "        # print(imPath)\n",
        "        parts=imPath.split(os.sep);   \n",
        "        testList.append([imPath, int(parts[-2])])\n",
        "  \n",
        "\n",
        "class create_mnist_dataset(object):\n",
        "    def __init__(self,batch_size):\n",
        "        self.batch_size=batch_size\n",
        "    def gen(self,dataList, phase='Train'):\n",
        "        inps=[]\n",
        "        labels=[]\n",
        "        try:\n",
        "          while 1:\n",
        "              shuffle(dataList)\n",
        "              for imPath, label in dataList:\n",
        "                  # print(imPath)\n",
        "                  tmp=np.zeros((10),dtype='uint8')\n",
        "                  tmp[int(label)]=1\n",
        "                  labels.append(tmp.copy())\n",
        "                  image=cv2.imread(imPath,0) ### we want to read image as gray\n",
        "                  image.shape\n",
        "                  inps.append(np.expand_dims(image,axis=-1))\n",
        "                  if len(labels)==self.batch_size:            \n",
        "                      yield np.asarray(inps,dtype='float32'), np.asarray(labels,dtype='float32')\n",
        "                      inps=[]\n",
        "                      labels=[]\n",
        "              if phase=='Test':\n",
        "                  break\n",
        "        except GeneratorExit:\n",
        "          print(\"Generated Finished\")\n",
        "\n",
        "batch_size=256\n",
        "# print(len(trainList))\n",
        "dataset=create_mnist_dataset(batch_size)\n",
        "traindata=dataset.gen(trainList)\n"
      ],
      "execution_count": 17,
      "outputs": [
        {
          "output_type": "stream",
          "text": [
            "Generated Finished\n",
            "Generated Finished\n"
          ],
          "name": "stdout"
        }
      ]
    },
    {
      "cell_type": "code",
      "metadata": {
        "id": "RCtkc_DGQtkZ",
        "colab": {
          "base_uri": "https://localhost:8080/",
          "height": 247
        },
        "outputId": "c4a5e7ba-1614-468e-e8ef-29228f423a62"
      },
      "source": [
        "%matplotlib inline\n",
        "\n",
        "testdata=dataset.gen(testList,phase='Test')\n",
        "vimages, vclasses = next( testdata)\n",
        "\n",
        "# Fill out the subplots with the random images that you defined \n",
        "for i in range(9):\n",
        "    plt.subplot(3, 3, i+1)\n",
        "    plt.axis('off')\n",
        "    plt.imshow(vimages[i].reshape(28,28))\n",
        "    plt.subplots_adjust(wspace=0.5)\n",
        "plt.show()\n",
        "\n",
        " "
      ],
      "execution_count": 18,
      "outputs": [
        {
          "output_type": "display_data",
          "data": {
            "image/png": "[encoded data removed]",
            "text/plain": [
              "<Figure size 432x288 with 9 Axes>"
            ]
          },
          "metadata": {
            "tags": [],
            "needs_background": "light"
          }
        }
      ]
    },
    {
      "cell_type": "code",
      "metadata": {
        "id": "KQUaI2slQyz3"
      },
      "source": [
        "# Parameters\n",
        "learning_rate = 0.01\n",
        "training_iteration = 1000\n",
        "display_step = 10\n",
        "\n",
        "\n",
        "# Network Parameters\n",
        "n_hidden_1 = 256 # 1st layer number of neurons\n",
        "n_hidden_2 = 256 # 2nd layer number of neurons\n",
        "n_input = [28,28,1] # MNIST data input (img shape: 28*28)\n",
        "n_classes = 10 # MNIST total classes (0-9 digits)\n",
        "\n",
        "\n",
        "initializer=tf.keras.initializers.HeNormal()  \n",
        "# initializer=tf.keras.initializers.HeUniform()\n",
        "# initializer = tf.initializers.orthogonal(gain=1.0) \n",
        "# initializer = tf.initializers.VarianceScaling(scale=1.0, mode='fan_in', distribution='truncated_normal')  \n",
        "# initializer = tf.initializers.glorot_uniform()  \n",
        "# initializer = tf.initializers.glorot_normal()  \n",
        "# initializer = tf.initializers.RandomUniform(minval=-1.0, maxval=1.0)  \n",
        "# initializer = tf.initializers.RandomNormal(mean=0, stddev=1.0)  \n",
        "\n",
        "# Store layers weight & bias\n",
        "weights = {\n",
        "    'cnn1': tf.Variable(initializer([3,3,n_input[2],32]),trainable=True),\n",
        "    'cnn2': tf.Variable(initializer([3,3,32,32]),trainable=True),\n",
        "    \n",
        "    \n",
        "    'cnn3': tf.Variable(initializer([3,3,32,64]),trainable=True),\n",
        "    'cnn4': tf.Variable(initializer([3,3,64,64]),trainable=True),    \n",
        "    \n",
        "    'cnn5': tf.Variable(initializer([3,3,64,64]),trainable=True),\n",
        "                       \n",
        "    'h1': tf.Variable(initializer([64*2*2, n_hidden_1]),trainable=True),\n",
        "    'h2': tf.Variable(initializer([n_hidden_1, n_hidden_2]),trainable=True),\n",
        "    'out': tf.Variable(initializer([n_hidden_2, n_classes]),trainable=True)\n",
        "}\n",
        "biases = {\n",
        "    'cb1': tf.Variable(tf.zeros([32]),trainable=True),\n",
        "    'cb2': tf.Variable(tf.zeros([32]),trainable=True),\n",
        "    'cb3': tf.Variable(tf.zeros([64]),trainable=True),\n",
        "    'cb4': tf.Variable(tf.zeros([64]),trainable=True),\n",
        "    'cb5': tf.Variable(tf.zeros([64]),trainable=True),\n",
        "    \n",
        "    'b1': tf.Variable(tf.zeros([n_hidden_1]),trainable=True),\n",
        "    'b2': tf.Variable(tf.zeros([n_hidden_2]),trainable=True),\n",
        "    'out': tf.Variable(tf.zeros([n_classes]),trainable=True)\n",
        "}\n",
        "\n",
        "varList=[]\n",
        "for key in weights:\n",
        "  varList.append(weights[key])\n",
        "for key in biases:\n",
        "  varList.append(biases[key])\n",
        "\n",
        "# Create model\n",
        "def multilayerNN(x):\n",
        "    \n",
        "    cnn1_out=tf.add( tf.nn.conv2d( x, weights['cnn1'], [1,1,1,1], padding='VALID'), biases['cb1'])\n",
        "    cnn1_actv=tf.nn.leaky_relu(cnn1_out, alpha=0.2)\n",
        "    \n",
        "    cnn2_out=tf.add( tf.nn.conv2d( cnn1_actv, weights['cnn2'], [1,1,1,1], padding='VALID'), biases['cb2'])\n",
        "    cnn2_actv=tf.nn.leaky_relu(cnn2_out, alpha=0.2)\n",
        "    \n",
        "    \n",
        "    pool1=tf.nn.max_pool(cnn2_actv, [1, 2, 2, 1], [1, 2, 2, 1], padding='VALID')\n",
        "    \n",
        "    cnn3_out=tf.add( tf.nn.conv2d( pool1, weights['cnn3'], [1,1,1,1], padding='VALID'), biases['cb3'])\n",
        "    cnn3_actv=tf.nn.leaky_relu(cnn3_out, alpha=0.2)\n",
        "    cnn4_out=tf.add( tf.nn.conv2d( cnn3_actv, weights['cnn4'], [1,1,1,1], padding='VALID'), biases['cb4'])\n",
        "    cnn4_actv=tf.nn.leaky_relu(cnn4_out, alpha=0.2)\n",
        "    \n",
        "    pool2=tf.nn.max_pool(cnn4_actv, [1, 2, 2, 1], [1, 2, 2, 1], padding='VALID')\n",
        "    \n",
        "    cnn5_out=tf.add( tf.nn.conv2d( pool2, weights['cnn5'], [1,1,1,1], padding='VALID'), biases['cb5'])\n",
        "    cnn5_actv=tf.nn.leaky_relu(cnn5_out, alpha=0.2)\n",
        "    \n",
        "    \n",
        "    flatten1=tf.reshape(cnn5_actv,(-1,64*2*2))\n",
        "\n",
        "\n",
        "    # Hidden fully connected layer with 256 neurons\n",
        "    layer_1 = tf.add(tf.matmul(flatten1, weights['h1']), biases['b1'])\n",
        "    layer_1=tf.nn.leaky_relu(layer_1, alpha=0.2)\n",
        "    #drop1=tf.nn.dropout(layer_1,rate=0.25)\n",
        "    \n",
        "    # Hidden fully connected layer with 256 neurons\n",
        "    layer_2 = tf.add(tf.matmul(layer_1, weights['h2']), biases['b2'])\n",
        "    layer_2=tf.nn.leaky_relu(layer_2, alpha=0.2)\n",
        "    # Output fully connected layer with a neuron for each class\n",
        "    out_layer = tf.matmul(layer_2, weights['out']) + biases['out']\n",
        "    # out_layer=tf.nn.sigmoid(out_layer)\n",
        "    y=tf.nn.softmax(out_layer,axis=-1)\n",
        "    return y\n",
        "\n",
        "\n",
        "\n",
        "optimizer = tf.keras.optimizers.Adadelta(learning_rate=learning_rate, rho=0.95, epsilon=10.0**-7)\n",
        "# optimizer = tf.keras.optimizers.SGD( learning_rate=learning_rate, momentum=0.0)\n",
        "           "
      ],
      "execution_count": 24,
      "outputs": []
    },
    {
      "cell_type": "code",
      "metadata": {
        "colab": {
          "base_uri": "https://localhost:8080/"
        },
        "id": "PNrj2XlzZ4b7",
        "outputId": "ad41e80e-9398-45c9-850d-9dd4ad92ff46"
      },
      "source": [
        "iteration=0\n",
        "while iteration<training_iteration:\n",
        "  iteration = iteration + 1 \n",
        "  images, classes = next(traindata)\n",
        "       \n",
        "  images=tf.convert_to_tensor(images)\n",
        "  images=(images-127.5)/127.5\n",
        "  classes=tf.convert_to_tensor(classes)\n",
        "  with tf.GradientTape(watch_accessed_variables=False) as tape:\n",
        "    tape.watch(varList)\n",
        "    y = multilayerNN(images)\n",
        "\n",
        "    loss = tf.reduce_mean(-classes*tf.math.log(y) )\n",
        "\n",
        "  gradients = tape.gradient(loss, varList)\n",
        "  optimizer.apply_gradients(zip(gradients, varList))\n",
        "\n",
        "  \n",
        "  # Display loss per epoch step\n",
        "  if iteration % display_step == 0:\n",
        "      print(\"iteration:\", '%04d' % (iteration), \"cost={:.9f}\".format(loss))"
      ],
      "execution_count": 25,
      "outputs": [
        {
          "output_type": "stream",
          "text": [
            "iteration: 0010 cost=0.421052217\n",
            "iteration: 0020 cost=0.322727144\n",
            "iteration: 0030 cost=0.300950676\n",
            "iteration: 0040 cost=0.260184765\n",
            "iteration: 0050 cost=0.239197105\n",
            "iteration: 0060 cost=0.224688932\n",
            "iteration: 0070 cost=0.213094503\n",
            "iteration: 0080 cost=0.207517594\n",
            "iteration: 0090 cost=0.196415380\n",
            "iteration: 0100 cost=0.184631884\n",
            "iteration: 0110 cost=0.175050005\n",
            "iteration: 0120 cost=0.176326782\n",
            "iteration: 0130 cost=0.165990084\n",
            "iteration: 0140 cost=0.160315603\n",
            "iteration: 0150 cost=0.160797194\n",
            "iteration: 0160 cost=0.147317767\n",
            "iteration: 0170 cost=0.145963937\n",
            "iteration: 0180 cost=0.140847772\n",
            "iteration: 0190 cost=0.139808506\n",
            "iteration: 0200 cost=0.138578981\n",
            "iteration: 0210 cost=0.136873081\n",
            "iteration: 0220 cost=0.134664133\n",
            "iteration: 0230 cost=0.114467338\n",
            "iteration: 0240 cost=0.122972831\n",
            "iteration: 0250 cost=0.122348189\n",
            "iteration: 0260 cost=0.126842618\n",
            "iteration: 0270 cost=0.109045446\n",
            "iteration: 0280 cost=0.113871112\n",
            "iteration: 0290 cost=0.105136134\n",
            "iteration: 0300 cost=0.101561368\n",
            "iteration: 0310 cost=0.102793299\n",
            "iteration: 0320 cost=0.090039350\n",
            "iteration: 0330 cost=0.101713851\n",
            "iteration: 0340 cost=0.097180791\n",
            "iteration: 0350 cost=0.086440220\n",
            "iteration: 0360 cost=0.087432310\n",
            "iteration: 0370 cost=0.086727165\n",
            "iteration: 0380 cost=0.081933789\n",
            "iteration: 0390 cost=0.086750463\n",
            "iteration: 0400 cost=0.082104698\n",
            "iteration: 0410 cost=0.077280506\n",
            "iteration: 0420 cost=0.085079454\n",
            "iteration: 0430 cost=0.075779513\n",
            "iteration: 0440 cost=0.070278324\n",
            "iteration: 0450 cost=0.084045567\n",
            "iteration: 0460 cost=0.070199445\n",
            "iteration: 0470 cost=0.068950221\n",
            "iteration: 0480 cost=0.074582115\n",
            "iteration: 0490 cost=0.068528108\n",
            "iteration: 0500 cost=0.071809694\n",
            "iteration: 0510 cost=0.062363900\n",
            "iteration: 0520 cost=0.069355272\n",
            "iteration: 0530 cost=0.058954101\n",
            "iteration: 0540 cost=0.059272747\n",
            "iteration: 0550 cost=0.065137297\n",
            "iteration: 0560 cost=0.062063199\n",
            "iteration: 0570 cost=0.062933519\n",
            "iteration: 0580 cost=0.063036643\n",
            "iteration: 0590 cost=0.047807552\n",
            "iteration: 0600 cost=0.058931254\n",
            "iteration: 0610 cost=0.061232440\n",
            "iteration: 0620 cost=0.070552811\n",
            "iteration: 0630 cost=0.047956996\n",
            "iteration: 0640 cost=0.061134525\n",
            "iteration: 0650 cost=0.053987913\n",
            "iteration: 0660 cost=0.060656477\n",
            "iteration: 0670 cost=0.064053550\n",
            "iteration: 0680 cost=0.057308543\n",
            "iteration: 0690 cost=0.044923358\n",
            "iteration: 0700 cost=0.047663741\n",
            "iteration: 0710 cost=0.047040790\n",
            "iteration: 0720 cost=0.051471353\n",
            "iteration: 0730 cost=0.050552178\n",
            "iteration: 0740 cost=0.049562365\n",
            "iteration: 0750 cost=0.054254562\n",
            "iteration: 0760 cost=0.039291359\n",
            "iteration: 0770 cost=0.044702075\n",
            "iteration: 0780 cost=0.048207562\n",
            "iteration: 0790 cost=0.039934464\n",
            "iteration: 0800 cost=0.046605404\n",
            "iteration: 0810 cost=0.045610186\n",
            "iteration: 0820 cost=0.042444296\n",
            "iteration: 0830 cost=0.049342327\n",
            "iteration: 0840 cost=0.041089125\n",
            "iteration: 0850 cost=0.039859693\n",
            "iteration: 0860 cost=0.043505650\n",
            "iteration: 0870 cost=0.048139177\n",
            "iteration: 0880 cost=0.044336367\n",
            "iteration: 0890 cost=0.043786533\n",
            "iteration: 0900 cost=0.053118743\n",
            "iteration: 0910 cost=0.039813180\n",
            "iteration: 0920 cost=0.035873838\n",
            "iteration: 0930 cost=0.033771034\n",
            "iteration: 0940 cost=0.038894191\n",
            "iteration: 0950 cost=0.035852604\n",
            "iteration: 0960 cost=0.035573408\n",
            "iteration: 0970 cost=0.035030317\n",
            "iteration: 0980 cost=0.043962441\n",
            "iteration: 0990 cost=0.038997222\n",
            "iteration: 1000 cost=0.034094371\n"
          ],
          "name": "stdout"
        }
      ]
    },
    {
      "cell_type": "markdown",
      "metadata": {
        "id": "8ew3V-yAIHT5"
      },
      "source": [
        "# **Testing**"
      ]
    },
    {
      "cell_type": "code",
      "metadata": {
        "colab": {
          "base_uri": "https://localhost:8080/"
        },
        "id": "ZZ6BeujKIPl-",
        "outputId": "33611ae4-2715-45ba-9d56-6dcddcaad4e1"
      },
      "source": [
        "print(len(testList))\n",
        "testdata=dataset.gen(testList,phase='Test')\n",
        "\n",
        "totalN=0\n",
        "totalP=0\n",
        "while True:\n",
        "  try:\n",
        "    images, classes = next(testdata)\n",
        "  except:\n",
        "    break\n",
        "  # print(classes)\n",
        "  images=tf.convert_to_tensor(images)\n",
        "  images=(images-127.5)/127.5\n",
        "  classes=tf.convert_to_tensor(classes)\n",
        "  y = multilayerNN(images)\n",
        "  yclass=tf.argmax(y,axis=-1)\n",
        "  classes=tf.argmax(classes,axis=-1)\n",
        "\n",
        "  p=tf.reduce_sum(tf.cast( tf.equal(yclass,classes), dtype='float32'))\n",
        "  totalP = totalP + p\n",
        "  totalN = totalN + batch_size\n",
        "\n",
        "  if iteration % display_step == 0:\n",
        "      print(\"totalN:\", '%04d' % (totalN), \"totalP:\", '%04d' % (totalP), \"Accuracy={:.9f}\".format(totalP*100/totalN))"
      ],
      "execution_count": 26,
      "outputs": [
        {
          "output_type": "stream",
          "text": [
            "10000\n",
            "totalN: 0256 totalP: 0225 Accuracy=87.890625000\n",
            "totalN: 0512 totalP: 0455 Accuracy=88.867187500\n",
            "totalN: 0768 totalP: 0674 Accuracy=87.760414124\n",
            "totalN: 1024 totalP: 0909 Accuracy=88.769531250\n",
            "totalN: 1280 totalP: 1133 Accuracy=88.515625000\n",
            "totalN: 1536 totalP: 1359 Accuracy=88.476562500\n",
            "totalN: 1792 totalP: 1594 Accuracy=88.950889587\n",
            "totalN: 2048 totalP: 1829 Accuracy=89.306640625\n",
            "totalN: 2304 totalP: 2060 Accuracy=89.409721375\n",
            "totalN: 2560 totalP: 2296 Accuracy=89.687500000\n",
            "totalN: 2816 totalP: 2526 Accuracy=89.701705933\n",
            "totalN: 3072 totalP: 2756 Accuracy=89.713539124\n",
            "totalN: 3328 totalP: 2977 Accuracy=89.453125000\n",
            "totalN: 3584 totalP: 3212 Accuracy=89.620536804\n",
            "totalN: 3840 totalP: 3445 Accuracy=89.713539124\n",
            "totalN: 4096 totalP: 3668 Accuracy=89.550781250\n",
            "totalN: 4352 totalP: 3897 Accuracy=89.545036316\n",
            "totalN: 4608 totalP: 4127 Accuracy=89.561630249\n",
            "totalN: 4864 totalP: 4351 Accuracy=89.453125000\n",
            "totalN: 5120 totalP: 4581 Accuracy=89.472656250\n",
            "totalN: 5376 totalP: 4805 Accuracy=89.378723145\n",
            "totalN: 5632 totalP: 5043 Accuracy=89.541900635\n",
            "totalN: 5888 totalP: 5269 Accuracy=89.487091064\n",
            "totalN: 6144 totalP: 5499 Accuracy=89.501953125\n",
            "totalN: 6400 totalP: 5733 Accuracy=89.578125000\n",
            "totalN: 6656 totalP: 5966 Accuracy=89.633415222\n",
            "totalN: 6912 totalP: 6184 Accuracy=89.467590332\n",
            "totalN: 7168 totalP: 6417 Accuracy=89.522880554\n",
            "totalN: 7424 totalP: 6647 Accuracy=89.533943176\n",
            "totalN: 7680 totalP: 6883 Accuracy=89.622398376\n",
            "totalN: 7936 totalP: 7108 Accuracy=89.566535950\n",
            "totalN: 8192 totalP: 7334 Accuracy=89.526367188\n",
            "totalN: 8448 totalP: 7554 Accuracy=89.417610168\n",
            "totalN: 8704 totalP: 7784 Accuracy=89.430145264\n",
            "totalN: 8960 totalP: 8013 Accuracy=89.430801392\n",
            "totalN: 9216 totalP: 8233 Accuracy=89.333770752\n",
            "totalN: 9472 totalP: 8461 Accuracy=89.326438904\n",
            "totalN: 9728 totalP: 8689 Accuracy=89.319488525\n",
            "totalN: 9984 totalP: 8921 Accuracy=89.352966309\n"
          ],
          "name": "stdout"
        }
      ]
    }
  ]
}