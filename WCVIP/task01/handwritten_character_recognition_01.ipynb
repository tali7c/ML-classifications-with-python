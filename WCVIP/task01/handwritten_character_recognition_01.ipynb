{
  "nbformat": 4,
  "nbformat_minor": 0,
  "metadata": {
    "colab": {
      "name": "handwritten character recognition 01.ipynb",
      "provenance": [],
      "collapsed_sections": []
    },
    "kernelspec": {
      "display_name": "Python 3",
      "name": "python3"
    }
  },
  "cells": [
    {
      "cell_type": "markdown",
      "metadata": {
        "id": "wIDtJf736QF8"
      },
      "source": [
        "Some time we have to install a package, if it is not present in goole colaboratory\n",
        "!pip install packageName"
      ]
    },
    {
      "cell_type": "code",
      "metadata": {
        "colab": {
          "base_uri": "https://localhost:8080/"
        },
        "id": "UzKQLp_bVqm6",
        "outputId": "17a0c729-05bc-4aa4-a839-3553ff38cbf4"
      },
      "source": [
        "# -*- coding: utf-8 -*-\n",
        "\"\"\"\n",
        "@author:T ALI\n",
        "\"\"\"\n",
        "!pip install wget"
      ],
      "execution_count": 1,
      "outputs": [
        {
          "output_type": "stream",
          "text": [
            "Collecting wget\n",
            "  Downloading https://files.pythonhosted.org/packages/47/6a/62e288da7bcda82b935ff0c6cfe542970f04e29c756b0e147251b2fb251f/wget-3.2.zip\n",
            "Building wheels for collected packages: wget\n",
            "  Building wheel for wget (setup.py) ... \u001b[?25l\u001b[?25hdone\n",
            "  Created wheel for wget: filename=wget-3.2-cp36-none-any.whl size=9681 sha256=43dfdbd362790dbd085e162b8418cc59e74d206bfd11749697d996562bb6bd51\n",
            "  Stored in directory: /root/.cache/pip/wheels/40/15/30/7d8f7cea2902b4db79e3fea550d7d7b85ecb27ef992b618f3f\n",
            "Successfully built wget\n",
            "Installing collected packages: wget\n",
            "Successfully installed wget-3.2\n"
          ],
          "name": "stdout"
        }
      ]
    },
    {
      "cell_type": "markdown",
      "metadata": {
        "id": "OItDyQqm6sEA"
      },
      "source": [
        "import different required packages"
      ]
    },
    {
      "cell_type": "code",
      "metadata": {
        "id": "Q9wJLT9y5lww"
      },
      "source": [
        "\n",
        "import os\n",
        "import numpy as np\n",
        "import cv2 \n",
        "import wget \n"
      ],
      "execution_count": 2,
      "outputs": []
    },
    {
      "cell_type": "markdown",
      "metadata": {
        "id": "uKUhtQBJ60wN"
      },
      "source": [
        "create a directory and change the current directory"
      ]
    },
    {
      "cell_type": "code",
      "metadata": {
        "id": "wr4SxHFt0tBT"
      },
      "source": [
        "rootDir='./Data'\n",
        "os.makedirs(rootDir, exist_ok=True)    \n",
        "        \n",
        "os.chdir(rootDir)\n"
      ],
      "execution_count": 3,
      "outputs": []
    },
    {
      "cell_type": "markdown",
      "metadata": {
        "id": "Zi392tRo7CPQ"
      },
      "source": [
        "download different files in current directory. Information regarding these files can be obtained from http://yann.lecun.com/exdb/mnist/"
      ]
    },
    {
      "cell_type": "code",
      "metadata": {
        "id": "ejj_Bxcc7L7q",
        "colab": {
          "base_uri": "https://localhost:8080/",
          "height": 35
        },
        "outputId": "03b1d307-3b2e-43ce-ae7c-6d76801352b3"
      },
      "source": [
        "url = 'http://yann.lecun.com/exdb/mnist/train-images-idx3-ubyte.gz'\n",
        "wget.download(url)\n",
        "\n",
        "url = 'http://yann.lecun.com/exdb/mnist/train-labels-idx1-ubyte.gz'\n",
        "wget.download(url)\n",
        "\n",
        "url = 'http://yann.lecun.com/exdb/mnist/t10k-images-idx3-ubyte.gz'\n",
        "wget.download(url)\n",
        "\n",
        "url = 'http://yann.lecun.com/exdb/mnist/t10k-labels-idx1-ubyte.gz'\n",
        "wget.download(url)"
      ],
      "execution_count": 4,
      "outputs": [
        {
          "output_type": "execute_result",
          "data": {
            "application/vnd.google.colaboratory.intrinsic+json": {
              "type": "string"
            },
            "text/plain": [
              "'t10k-labels-idx1-ubyte.gz'"
            ]
          },
          "metadata": {
            "tags": []
          },
          "execution_count": 4
        }
      ]
    },
    {
      "cell_type": "markdown",
      "metadata": {
        "id": "_FLM0pNL7RXa"
      },
      "source": [
        "extract the training data and store it in Train folder"
      ]
    },
    {
      "cell_type": "code",
      "metadata": {
        "id": "H9u9c99m0zBh"
      },
      "source": [
        "\n",
        "image_size = 28\n",
        "import gzip\n",
        "\n",
        "fx = gzip.open('train-images-idx3-ubyte.gz','r')\n",
        "fx.read(16)\n",
        "fy = gzip.open('train-labels-idx1-ubyte.gz','r')\n",
        "fy.read(8)\n",
        "count=0\n",
        "while 1:\n",
        "    labBuff=fy.read(1)\n",
        "    if not labBuff:\n",
        "        break\n",
        "    label = np.frombuffer(labBuff, dtype=np.uint8)[0]\n",
        "    buf = fx.read(image_size * image_size )\n",
        "    data = np.frombuffer(buf, dtype=np.uint8)\n",
        "    image = data.reshape(image_size, image_size)\n",
        "    parentDir='Train'+os.sep+str(label)\n",
        "    os.makedirs(parentDir, exist_ok=True)    \n",
        "    cv2.imwrite(parentDir+os.sep+str(count)+'.png',image)  \n",
        "    count += 1\n"
      ],
      "execution_count": 5,
      "outputs": []
    },
    {
      "cell_type": "markdown",
      "metadata": {
        "id": "Ou-b5H4z7aBL"
      },
      "source": [
        "extract the testing data and store it in Test folder"
      ]
    },
    {
      "cell_type": "code",
      "metadata": {
        "id": "ERNR-WIu05mN"
      },
      "source": [
        "fx = gzip.open('t10k-images-idx3-ubyte.gz','r')\n",
        "fx.read(16)\n",
        "fy = gzip.open('t10k-labels-idx1-ubyte.gz','r')\n",
        "fy.read(8)\n",
        "count=0\n",
        "while 1:\n",
        "    labBuff=fy.read(1)\n",
        "    if not labBuff:\n",
        "        break\n",
        "    label = np.frombuffer(labBuff, dtype=np.uint8)[0]\n",
        "    buf = fx.read(image_size * image_size )\n",
        "    data = np.frombuffer(buf, dtype=np.uint8)\n",
        "    image = data.reshape(image_size, image_size)\n",
        "    parentDir='Test'+os.sep+str(label)\n",
        "    os.makedirs(parentDir, exist_ok=True)    \n",
        "    cv2.imwrite(parentDir+os.sep+str(count)+'.png',image)  \n",
        "    count += 1"
      ],
      "execution_count": 6,
      "outputs": []
    },
    {
      "cell_type": "markdown",
      "metadata": {
        "id": "d41jRMAWNHe0"
      },
      "source": [
        "Let create Training and Testing Dataset"
      ]
    },
    {
      "cell_type": "code",
      "metadata": {
        "id": "-pF2MQpQNPlN",
        "colab": {
          "base_uri": "https://localhost:8080/"
        },
        "outputId": "3b7616cc-688f-4a13-db64-eb9b9cbb6e0f"
      },
      "source": [
        "from random import shuffle\n",
        "import tensorflow as tf \n",
        "import matplotlib.pyplot as plt\n",
        "import cv2 \n",
        "\n",
        "print(os.getcwd())\n",
        "rootDir='/'\n",
        "os.chdir(rootDir)\n",
        "\n",
        "\n"
      ],
      "execution_count": 7,
      "outputs": [
        {
          "output_type": "stream",
          "text": [
            "/content/Data\n"
          ],
          "name": "stdout"
        }
      ]
    },
    {
      "cell_type": "code",
      "metadata": {
        "id": "i_v8i6npDpBa",
        "colab": {
          "base_uri": "https://localhost:8080/"
        },
        "outputId": "096c442e-bdb4-43b1-a449-1a70cf735009"
      },
      "source": [
        "\n",
        "rootDir='./content/Data/Train'\n",
        "trainList=[]\n",
        "for path, subdirs, files in os.walk(rootDir):\n",
        "  for name in files:\n",
        "    if not name.endswith('.png'):\n",
        "        continue  \n",
        "    \n",
        "    imPath=os.path.join(path, name); \n",
        "    # print(imPath)\n",
        "    parts=imPath.split(os.sep);   \n",
        "    trainList.append([imPath, int(parts[-2])])\n",
        "        \n",
        "        \n",
        "rootDir='./content/Data/Test'\n",
        "testList=[]\n",
        "for path, subdirs, files in os.walk(rootDir):\n",
        "    for name in files:\n",
        "        if not name.endswith('.png'):\n",
        "            continue  \n",
        "        \n",
        "        imPath=os.path.join(path, name); \n",
        "        # print(imPath)\n",
        "        parts=imPath.split(os.sep); \n",
        "        testList.append([imPath, int(parts[-2])])\n",
        "  \n",
        "\n",
        "class create_mnist_dataset(object):\n",
        "    def __init__(self,batch_size):\n",
        "        self.batch_size=batch_size\n",
        "    def gen(self,dataList, phase='Train'):\n",
        "        inps=[]\n",
        "        labels=[]\n",
        "        try:\n",
        "          while 1:\n",
        "              shuffle(dataList)\n",
        "              for imPath, label in dataList:\n",
        "                  # print(imPath)\n",
        "                  tmp=np.zeros((1,1,10),dtype='uint8')\n",
        "                  tmp[0,0,int(label)]=1\n",
        "                  labels.append(tmp.copy())\n",
        "                  image=cv2.imread(imPath,0) ### we want to read image as gray\n",
        "                  image.shape\n",
        "                  inps.append(np.expand_dims(image,axis=-1))\n",
        "                  if len(labels)==self.batch_size:            \n",
        "                      yield np.asarray(inps,dtype='float32'), np.asarray(labels,dtype='float32')\n",
        "                      inps=[]\n",
        "                      labels=[]\n",
        "              if phase=='Test':\n",
        "                  break\n",
        "        except GeneratorExit:\n",
        "          print(\"Generated Finished\")\n",
        "\n",
        "batch_size=256\n",
        "# print(len(trainList))\n",
        "dataset=create_mnist_dataset(batch_size)\n",
        "traindata=dataset.gen(trainList)\n"
      ],
      "execution_count": 82,
      "outputs": [
        {
          "output_type": "stream",
          "text": [
            "Generated Finished\n",
            "Generated Finished\n"
          ],
          "name": "stdout"
        }
      ]
    },
    {
      "cell_type": "code",
      "metadata": {
        "colab": {
          "base_uri": "https://localhost:8080/",
          "height": 247
        },
        "id": "RCtkc_DGQtkZ",
        "outputId": "01bd2a4b-d78a-4ef1-eb13-81fed6a24078"
      },
      "source": [
        "%matplotlib inline\n",
        "\n",
        "\n",
        "testdata=dataset.gen(testList,phase='Test')\n",
        "vimages, vclasses = next( testdata)\n",
        "\n",
        "# Fill out the subplots with the random images that you defined \n",
        "for i in range(9):\n",
        "    plt.subplot(3, 3, i+1)\n",
        "    plt.axis('off')\n",
        "    plt.imshow(vimages[i].reshape(28,28))\n",
        "    plt.subplots_adjust(wspace=0.5)\n",
        "plt.show()\n",
        "\n",
        " "
      ],
      "execution_count": 51,
      "outputs": [
        {
          "output_type": "display_data",
          "data": {
            "image/png": "[encoded data removed]",
            "text/plain": [
              "<Figure size 432x288 with 9 Axes>"
            ]
          },
          "metadata": {
            "tags": [],
            "needs_background": "light"
          }
        }
      ]
    },
    {
      "cell_type": "code",
      "metadata": {
        "id": "KQUaI2slQyz3"
      },
      "source": [
        "# Parameters\n",
        "learning_rate = 0.01\n",
        "training_iteration = 5000\n",
        "display_step = 10\n",
        "\n",
        "\n",
        "# Network Parameters\n",
        "n_hidden_1 = 256 # 1st layer number of neurons\n",
        "n_hidden_2 = 256 # 2nd layer number of neurons\n",
        "n_input = 784 # MNIST data input (img shape: 28*28)\n",
        "n_classes = 10 # MNIST total classes (0-9 digits)\n",
        "\n",
        "\n",
        "\n",
        "\n",
        "# Store layers weight & bias\n",
        "\n",
        "initializer=tf.keras.initializers.HeNormal()  \n",
        "# initializer=tf.keras.initializers.HeUniform()\n",
        "# initializer = tf.initializers.orthogonal(gain=1.0) \n",
        "# initializer = tf.initializers.VarianceScaling(scale=1.0, mode='fan_in', distribution='truncated_normal')  \n",
        "# initializer = tf.initializers.glorot_uniform()  \n",
        "# initializer = tf.initializers.glorot_normal()  \n",
        "# initializer = tf.initializers.RandomUniform(minval=-1.0, maxval=1.0)  \n",
        "# initializer = tf.initializers.RandomNormal(mean=0, stddev=1.0)  \n",
        "\n",
        "# Store layers weight & bias\n",
        "weights = {\n",
        "    'h1': tf.Variable(initializer([n_input, n_hidden_1]),trainable=True),\n",
        "    'h2': tf.Variable(initializer([n_hidden_1, n_hidden_2]),trainable=True),\n",
        "    'out': tf.Variable(initializer([n_hidden_2, n_classes]),trainable=True)\n",
        "}\n",
        "biases = {\n",
        "    'b1': tf.Variable(tf.zeros([n_hidden_1]),trainable=True),\n",
        "    'b2': tf.Variable(tf.zeros([n_hidden_2]),trainable=True),\n",
        "    'out': tf.Variable(tf.zeros([n_classes]),trainable=True)\n",
        "}\n",
        "\n",
        "varList=[]\n",
        "for key in weights:\n",
        "  varList.append(weights[key])\n",
        "for key in biases:\n",
        "  varList.append(biases[key])\n",
        "\n",
        "\n",
        "# Create model\n",
        "def multilayerNN(x):\n",
        "    x=tf.reshape(x,[-1,1,1,n_input])\n",
        "    # print(tf.reduce_mean(x))\n",
        "    # Hidden fully connected layer with 256 neurons\n",
        "    layer_1 = tf.add(tf.matmul(x, weights['h1']), biases['b1'])\n",
        "    layer_1=tf.nn.leaky_relu(    layer_1,    alpha=0.2)\n",
        "    # print(weights['h1'])\n",
        "    # Hidden fully connected layer with 256 neurons\n",
        "    layer_2 = tf.add(tf.matmul(layer_1, weights['h2']), biases['b2'])\n",
        "    layer_2=tf.nn.leaky_relu(    layer_2,    alpha=0.2)\n",
        "    # print(layer_2)\n",
        "    # Output fully connected layer with a neuron for each class\n",
        "    out_layer = tf.matmul(layer_2, weights['out']) + biases['out']\n",
        "    # y=tf.nn.sigmoid(out_layer)\n",
        "    # y=tf.clip_by_value(tf.nn.softmax(out_layer),0.01,0.99)\n",
        "    y=tf.nn.softmax(out_layer)\n",
        "    return y\n",
        "\n",
        "\n",
        "optimizer = tf.keras.optimizers.Adadelta(learning_rate=learning_rate, rho=0.95, epsilon=10.0**-7)\n",
        "# optimizer = tf.keras.optimizers.SGD( learning_rate=learning_rate, momentum=0.0)"
      ],
      "execution_count": null,
      "outputs": []
    },
    {
      "cell_type": "code",
      "metadata": {
        "colab": {
          "base_uri": "https://localhost:8080/"
        },
        "id": "PNrj2XlzZ4b7",
        "outputId": "96a950af-6b4a-4241-c93c-566c41c9c41f"
      },
      "source": [
        "iteration=0\n",
        "while iteration<training_iteration:\n",
        "  iteration = iteration + 1 \n",
        "  images, classes = next(traindata)\n",
        "  # print(classes)\n",
        "  images=tf.convert_to_tensor(images)\n",
        "  images=(images-127.5)/127.5\n",
        "  classes=tf.convert_to_tensor(classes)\n",
        "  with tf.GradientTape(watch_accessed_variables=True) as tape:\n",
        "    tape.watch(varList)\n",
        "    y = multilayerNN(images)\n",
        "    # print(y)\n",
        "    loss = tf.reduce_mean(-classes*tf.math.log(y))\n",
        "\n",
        "  gradients = tape.gradient(loss, varList)\n",
        "  optimizer.apply_gradients(zip(gradients, varList))\n",
        "\n",
        "  \n",
        "  # Display loss per epoch step\n",
        "  if iteration % display_step == 0:\n",
        "      print(\"iteration:\", '%04d' % (iteration), \"cost={:.9f}\".format(loss))"
      ],
      "execution_count": null,
      "outputs": [
        {
          "output_type": "stream",
          "text": [
            "iteration: 0010 cost=nan\n",
            "iteration: 0020 cost=nan\n",
            "iteration: 0030 cost=nan\n",
            "iteration: 0040 cost=nan\n",
            "iteration: 0050 cost=nan\n",
            "iteration: 0060 cost=nan\n",
            "iteration: 0070 cost=nan\n",
            "iteration: 0080 cost=nan\n",
            "iteration: 0090 cost=nan\n",
            "iteration: 0100 cost=nan\n",
            "iteration: 0110 cost=nan\n",
            "iteration: 0120 cost=nan\n",
            "iteration: 0130 cost=nan\n",
            "iteration: 0140 cost=nan\n",
            "iteration: 0150 cost=nan\n",
            "iteration: 0160 cost=nan\n",
            "iteration: 0170 cost=nan\n",
            "iteration: 0180 cost=nan\n",
            "iteration: 0190 cost=nan\n",
            "iteration: 0200 cost=nan\n",
            "iteration: 0210 cost=nan\n",
            "iteration: 0220 cost=nan\n",
            "iteration: 0230 cost=nan\n",
            "iteration: 0240 cost=nan\n",
            "iteration: 0250 cost=nan\n",
            "iteration: 0260 cost=nan\n",
            "iteration: 0270 cost=nan\n",
            "iteration: 0280 cost=nan\n",
            "iteration: 0290 cost=nan\n",
            "iteration: 0300 cost=nan\n",
            "iteration: 0310 cost=nan\n",
            "iteration: 0320 cost=nan\n",
            "iteration: 0330 cost=nan\n",
            "iteration: 0340 cost=nan\n",
            "iteration: 0350 cost=nan\n",
            "iteration: 0360 cost=nan\n",
            "iteration: 0370 cost=nan\n",
            "iteration: 0380 cost=nan\n",
            "iteration: 0390 cost=nan\n",
            "iteration: 0400 cost=nan\n",
            "iteration: 0410 cost=nan\n",
            "iteration: 0420 cost=nan\n",
            "iteration: 0430 cost=nan\n",
            "iteration: 0440 cost=nan\n",
            "iteration: 0450 cost=nan\n",
            "iteration: 0460 cost=nan\n",
            "iteration: 0470 cost=nan\n",
            "iteration: 0480 cost=nan\n",
            "iteration: 0490 cost=nan\n",
            "iteration: 0500 cost=nan\n",
            "iteration: 0510 cost=nan\n",
            "iteration: 0520 cost=nan\n",
            "iteration: 0530 cost=nan\n",
            "iteration: 0540 cost=nan\n",
            "iteration: 0550 cost=nan\n",
            "iteration: 0560 cost=nan\n",
            "iteration: 0570 cost=nan\n",
            "iteration: 0580 cost=nan\n",
            "iteration: 0590 cost=nan\n",
            "iteration: 0600 cost=nan\n",
            "iteration: 0610 cost=nan\n",
            "iteration: 0620 cost=nan\n",
            "iteration: 0630 cost=nan\n",
            "iteration: 0640 cost=nan\n",
            "iteration: 0650 cost=nan\n",
            "iteration: 0660 cost=nan\n",
            "iteration: 0670 cost=nan\n",
            "iteration: 0680 cost=nan\n",
            "iteration: 0690 cost=nan\n",
            "iteration: 0700 cost=nan\n",
            "iteration: 0710 cost=nan\n",
            "iteration: 0720 cost=nan\n",
            "iteration: 0730 cost=nan\n",
            "iteration: 0740 cost=nan\n",
            "iteration: 0750 cost=nan\n"
          ],
          "name": "stdout"
        }
      ]
    },
    {
      "cell_type": "markdown",
      "metadata": {
        "id": "IDriRj8HFyjg"
      },
      "source": [
        "# ** Testing**"
      ]
    },
    {
      "cell_type": "code",
      "metadata": {
        "colab": {
          "base_uri": "https://localhost:8080/"
        },
        "id": "J5uLNMthF_e3",
        "outputId": "bb9272a6-3d93-4fb8-97cd-7637ad93618d"
      },
      "source": [
        "print(len(testList))\n",
        "testdata=dataset.gen(testList,phase='Test')\n",
        "\n",
        "totalN=0\n",
        "totalP=0\n",
        "while True:\n",
        "  try:\n",
        "    images, classes = next(testdata)\n",
        "  except:\n",
        "    break\n",
        "  # print(classes)\n",
        "  images=tf.convert_to_tensor(images)\n",
        "  images=(images-127.5)/127.5\n",
        "  classes=tf.convert_to_tensor(classes)\n",
        "  y = multilayerNN(images)\n",
        "  yclass=tf.argmax(y,axis=-1)\n",
        "  classes=tf.argmax(classes,axis=-1)\n",
        "\n",
        "  p=tf.reduce_sum(tf.cast( tf.equal(yclass,classes), dtype='float32'))\n",
        "  totalP = totalP + p\n",
        "  totalN = totalN + batch_size\n",
        "\n",
        "  if iteration % display_step == 0:\n",
        "      print(\"totalN:\", '%04d' % (totalN), \"totalP:\", '%04d' % (totalP), \"Accuracy={:.9f}\".format(totalP*100/totalN))"
      ],
      "execution_count": 91,
      "outputs": [
        {
          "output_type": "stream",
          "text": [
            "10000\n",
            "totalN: 0256 totalP: 0235 Accuracy=91.796875000\n",
            "totalN: 0512 totalP: 0471 Accuracy=91.992187500\n",
            "totalN: 0768 totalP: 0707 Accuracy=92.057289124\n",
            "totalN: 1024 totalP: 0940 Accuracy=91.796875000\n",
            "totalN: 1280 totalP: 1177 Accuracy=91.953125000\n",
            "totalN: 1536 totalP: 1413 Accuracy=91.992187500\n",
            "totalN: 1792 totalP: 1640 Accuracy=91.517860413\n",
            "totalN: 2048 totalP: 1866 Accuracy=91.113281250\n",
            "totalN: 2304 totalP: 2094 Accuracy=90.885414124\n",
            "totalN: 2560 totalP: 2328 Accuracy=90.937500000\n",
            "totalN: 2816 totalP: 2561 Accuracy=90.944602966\n",
            "totalN: 3072 totalP: 2778 Accuracy=90.429687500\n",
            "totalN: 3328 totalP: 3008 Accuracy=90.384613037\n",
            "totalN: 3584 totalP: 3237 Accuracy=90.318077087\n",
            "totalN: 3840 totalP: 3468 Accuracy=90.312500000\n",
            "totalN: 4096 totalP: 3700 Accuracy=90.332031250\n",
            "totalN: 4352 totalP: 3940 Accuracy=90.533088684\n",
            "totalN: 4608 totalP: 4162 Accuracy=90.321182251\n",
            "totalN: 4864 totalP: 4392 Accuracy=90.296051025\n",
            "totalN: 5120 totalP: 4625 Accuracy=90.332031250\n",
            "totalN: 5376 totalP: 4852 Accuracy=90.252975464\n",
            "totalN: 5632 totalP: 5086 Accuracy=90.305397034\n",
            "totalN: 5888 totalP: 5318 Accuracy=90.319290161\n",
            "totalN: 6144 totalP: 5549 Accuracy=90.315757751\n",
            "totalN: 6400 totalP: 5785 Accuracy=90.390625000\n",
            "totalN: 6656 totalP: 6021 Accuracy=90.459732056\n",
            "totalN: 6912 totalP: 6253 Accuracy=90.465858459\n",
            "totalN: 7168 totalP: 6488 Accuracy=90.513389587\n",
            "totalN: 7424 totalP: 6718 Accuracy=90.490303040\n",
            "totalN: 7680 totalP: 6945 Accuracy=90.429687500\n",
            "totalN: 7936 totalP: 7173 Accuracy=90.385581970\n",
            "totalN: 8192 totalP: 7405 Accuracy=90.393066406\n",
            "totalN: 8448 totalP: 7631 Accuracy=90.329071045\n",
            "totalN: 8704 totalP: 7856 Accuracy=90.257354736\n",
            "totalN: 8960 totalP: 8083 Accuracy=90.212051392\n",
            "totalN: 9216 totalP: 8313 Accuracy=90.201820374\n",
            "totalN: 9472 totalP: 8538 Accuracy=90.139358521\n",
            "totalN: 9728 totalP: 8772 Accuracy=90.172698975\n",
            "totalN: 9984 totalP: 9000 Accuracy=90.144233704\n"
          ],
          "name": "stdout"
        }
      ]
    }
  ]
}